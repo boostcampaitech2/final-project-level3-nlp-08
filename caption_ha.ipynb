{
 "cells": [
  {
   "cell_type": "code",
   "execution_count": 1,
   "metadata": {},
   "outputs": [],
   "source": [
    "from transformers import (VisionEncoderDecoderModel, ViTFeatureExtractor, AutoTokenizer)\n",
    "from transformers import BertConfig, ViTConfig, VisionEncoderDecoderConfig\n",
    "import torch\n",
    "import numpy as np\n",
    "from PIL import Image"
   ]
  },
  {
   "cell_type": "code",
   "execution_count": 2,
   "metadata": {},
   "outputs": [
    {
     "name": "stderr",
     "output_type": "stream",
     "text": [
      "Special tokens have been added in the vocabulary, make sure the associated word embeddings are fine-tuned or trained.\n",
      "Some weights of GPT2LMHeadModel were not initialized from the model checkpoint at skt/kogpt2-base-v2 and are newly initialized: ['transformer.h.7.crossattention.q_attn.weight', 'transformer.h.11.crossattention.c_proj.bias', 'transformer.h.5.crossattention.masked_bias', 'transformer.h.1.ln_cross_attn.weight', 'transformer.h.2.crossattention.bias', 'transformer.h.11.crossattention.masked_bias', 'transformer.h.4.ln_cross_attn.weight', 'transformer.h.4.crossattention.c_proj.bias', 'transformer.h.4.crossattention.masked_bias', 'transformer.h.5.crossattention.c_attn.weight', 'transformer.h.3.crossattention.c_attn.weight', 'transformer.h.5.crossattention.bias', 'transformer.h.1.crossattention.bias', 'transformer.h.8.crossattention.q_attn.weight', 'transformer.h.2.ln_cross_attn.weight', 'transformer.h.2.crossattention.c_proj.weight', 'transformer.h.3.crossattention.c_proj.weight', 'transformer.h.11.crossattention.c_attn.weight', 'transformer.h.6.crossattention.c_proj.bias', 'transformer.h.8.crossattention.c_proj.weight', 'transformer.h.0.crossattention.c_proj.weight', 'transformer.h.6.crossattention.masked_bias', 'transformer.h.2.crossattention.c_proj.bias', 'transformer.h.4.crossattention.q_attn.weight', 'transformer.h.10.crossattention.masked_bias', 'transformer.h.9.crossattention.masked_bias', 'transformer.h.1.crossattention.c_proj.bias', 'transformer.h.7.crossattention.c_proj.bias', 'transformer.h.1.crossattention.c_proj.weight', 'transformer.h.6.crossattention.c_proj.weight', 'transformer.h.3.crossattention.bias', 'transformer.h.6.crossattention.bias', 'transformer.h.2.crossattention.masked_bias', 'transformer.h.7.crossattention.c_proj.weight', 'transformer.h.0.crossattention.c_attn.weight', 'transformer.h.5.ln_cross_attn.weight', 'transformer.h.10.crossattention.bias', 'transformer.h.9.crossattention.c_proj.weight', 'transformer.h.5.crossattention.c_proj.weight', 'transformer.h.10.crossattention.c_proj.bias', 'transformer.h.4.crossattention.c_attn.weight', 'transformer.h.4.crossattention.c_proj.weight', 'transformer.h.0.ln_cross_attn.weight', 'transformer.h.8.crossattention.c_proj.bias', 'transformer.h.0.crossattention.bias', 'transformer.h.0.crossattention.q_attn.weight', 'transformer.h.5.crossattention.c_proj.bias', 'transformer.h.5.crossattention.q_attn.weight', 'transformer.h.1.crossattention.masked_bias', 'transformer.h.6.ln_cross_attn.weight', 'transformer.h.11.crossattention.bias', 'transformer.h.9.crossattention.q_attn.weight', 'transformer.h.0.crossattention.masked_bias', 'transformer.h.8.crossattention.masked_bias', 'transformer.h.3.crossattention.masked_bias', 'transformer.h.2.crossattention.c_attn.weight', 'transformer.h.10.crossattention.c_attn.weight', 'transformer.h.7.ln_cross_attn.weight', 'transformer.h.1.crossattention.q_attn.weight', 'transformer.h.3.crossattention.q_attn.weight', 'transformer.h.9.crossattention.bias', 'transformer.h.8.crossattention.c_attn.weight', 'transformer.h.11.ln_cross_attn.weight', 'transformer.h.9.crossattention.c_proj.bias', 'transformer.h.6.crossattention.c_attn.weight', 'transformer.h.1.crossattention.c_attn.weight', 'transformer.h.4.crossattention.bias', 'transformer.h.11.crossattention.q_attn.weight', 'transformer.h.2.crossattention.q_attn.weight', 'transformer.h.11.crossattention.c_proj.weight', 'transformer.h.7.crossattention.masked_bias', 'transformer.h.10.crossattention.q_attn.weight', 'transformer.h.10.ln_cross_attn.weight', 'transformer.h.3.crossattention.c_proj.bias', 'transformer.h.8.crossattention.bias', 'transformer.h.7.crossattention.c_attn.weight', 'transformer.h.0.crossattention.c_proj.bias', 'transformer.h.3.ln_cross_attn.weight', 'transformer.h.7.crossattention.bias', 'transformer.h.10.crossattention.c_proj.weight', 'transformer.h.9.crossattention.c_attn.weight', 'transformer.h.9.ln_cross_attn.weight', 'transformer.h.6.crossattention.q_attn.weight', 'transformer.h.8.ln_cross_attn.weight']\n",
      "You should probably TRAIN this model on a down-stream task to be able to use it for predictions and inference.\n"
     ]
    },
    {
     "name": "stdout",
     "output_type": "stream",
     "text": [
      "Model loaded\n"
     ]
    }
   ],
   "source": [
    "device = torch.device('cuda' if torch.cuda.is_available() else 'cpu')\n",
    "# gpu 사용\n",
    "decoder_model_name_or_path = 'skt/kogpt2-base-v2'\n",
    "#decoder_model_name_or_path = 'klue/bert-base'\n",
    "tokenizer = AutoTokenizer.from_pretrained(decoder_model_name_or_path)\n",
    "# decoder, tokenizer -> gpt2\n",
    "\n",
    "encoder_model_name_or_path = 'google/vit-base-patch16-224-in21k'\n",
    "\n",
    "feature_extractor = ViTFeatureExtractor.from_pretrained(encoder_model_name_or_path)\n",
    "model = VisionEncoderDecoderModel.from_encoder_decoder_pretrained(encoder_model_name_or_path, decoder_model_name_or_path)\n",
    "# encoder, extractor -> vit\n",
    "model.to(device)\n",
    "print(\"Model loaded\")"
   ]
  },
  {
   "cell_type": "code",
   "execution_count": 4,
   "metadata": {},
   "outputs": [
    {
     "data": {
      "text/plain": [
       "(360, 640, 3)"
      ]
     },
     "execution_count": 4,
     "metadata": {},
     "output_type": "execute_result"
    }
   ],
   "source": [
    "image = Image.open(\"val2014/COCO_val2014_000000391895.jpg\").convert(\"RGB\")\n",
    "image_tensor = np.array(image)\n",
    "image_tensor.shape"
   ]
  },
  {
   "cell_type": "code",
   "execution_count": 32,
   "metadata": {},
   "outputs": [],
   "source": [
    "#image\n",
    "model.config.decoder_start_token_id = 0\n",
    "model.config.pad_token_id = 3\n",
    "# model.config.decoder_start_token_id = tokenizer.cls_token_id\n",
    "# model.config.pad_token_id = tokenizer.pad_token_id\n",
    "model.config.vocab_size = model.config.decoder.vocab_size"
   ]
  },
  {
   "cell_type": "code",
   "execution_count": 26,
   "metadata": {},
   "outputs": [
    {
     "data": {
      "text/plain": [
       "51200"
      ]
     },
     "execution_count": 26,
     "metadata": {},
     "output_type": "execute_result"
    }
   ],
   "source": [
    "tokenizer.bos_token_id"
   ]
  },
  {
   "cell_type": "code",
   "execution_count": 33,
   "metadata": {},
   "outputs": [],
   "source": [
    "text_list = [\n",
    "    \"빨간 헬멧을 쓴 남자가 작은 오토바이를 타고 비포장 도로에 있다.\", \n",
    "    \"시골의 비포장 도로에서 오토바이를 타는 남자\", \n",
    "    \"오토바이 뒤에 탄 남자\", \n",
    "    \"오토바이 위에 젊은이가 탄 비포장 도로는 다리가 있는 초록빛 지역의 전경과 구름 낀 산의 배경이 있다.\", \n",
    "    \"빨간 셔츠와 빨간 모자를 쓴 남자가 언덕 쪽 오토바이 위에 있다.\"\n",
    "]"
   ]
  },
  {
   "cell_type": "code",
   "execution_count": 34,
   "metadata": {},
   "outputs": [
    {
     "name": "stdout",
     "output_type": "stream",
     "text": [
      "torch.Size([1, 3, 224, 224])\n"
     ]
    }
   ],
   "source": [
    "pixel_values = feature_extractor(image_tensor, return_tensors=\"pt\").pixel_values\n",
    "#pixel_values = feature_extractor(image_tensor, return_tensors=\"pt\")\n",
    "print(pixel_values.shape)\n",
    "#print(pixel_values)"
   ]
  },
  {
   "cell_type": "code",
   "execution_count": 35,
   "metadata": {},
   "outputs": [],
   "source": [
    "text = text_list[0]\n",
    "labels = tokenizer(text, return_tensors=\"pt\").input_ids"
   ]
  },
  {
   "cell_type": "code",
   "execution_count": 36,
   "metadata": {},
   "outputs": [
    {
     "name": "stdout",
     "output_type": "stream",
     "text": [
      "tensor([[22162, 14381,  7527,  8137, 10097, 28736,  9836, 19218,  7596,  9989,\n",
      "         12814,  9072, 31880, 10794,  8022, 10960]])\n",
      "빨간 헬멧을 쓴 남자가 작은 오토바이를 타고 비포장 도로에 있다.\n",
      "51200\n"
     ]
    }
   ],
   "source": [
    "print(labels)\n",
    "print(tokenizer.decode(labels[0]))\n",
    "print(tokenizer.vocab_size)"
   ]
  },
  {
   "cell_type": "code",
   "execution_count": 37,
   "metadata": {},
   "outputs": [],
   "source": [
    "#outputs = model(pixel_values=pixel_values.to(device))\n",
    "outputs = model(pixel_values=pixel_values.to(device), labels=labels.to(device))"
   ]
  },
  {
   "cell_type": "code",
   "execution_count": 38,
   "metadata": {},
   "outputs": [],
   "source": [
    "loss = outputs.loss"
   ]
  },
  {
   "cell_type": "code",
   "execution_count": 39,
   "metadata": {},
   "outputs": [],
   "source": [
    "generated_ids = model.generate(pixel_values.to(device))\n",
    "generated_text = tokenizer.batch_decode(generated_ids, skip_special_tokens=True)[0]"
   ]
  },
  {
   "cell_type": "code",
   "execution_count": 40,
   "metadata": {},
   "outputs": [
    {
     "data": {
      "text/plain": [
       "\"기 때문에 그걸로 끝내는 게 더 낫다.\\n그런데 이게 바로 '수\""
      ]
     },
     "execution_count": 40,
     "metadata": {},
     "output_type": "execute_result"
    }
   ],
   "source": [
    "generated_text"
   ]
  }
 ],
 "metadata": {
  "interpreter": {
   "hash": "d4d1e4263499bec80672ea0156c357c1ee493ec2b1c70f0acce89fc37c4a6abe"
  },
  "kernelspec": {
   "display_name": "Python 3.8.5 64-bit ('base': conda)",
   "language": "python",
   "name": "python3"
  },
  "language_info": {
   "codemirror_mode": {
    "name": "ipython",
    "version": 3
   },
   "file_extension": ".py",
   "mimetype": "text/x-python",
   "name": "python",
   "nbconvert_exporter": "python",
   "pygments_lexer": "ipython3",
   "version": "3.8.5"
  },
  "orig_nbformat": 4
 },
 "nbformat": 4,
 "nbformat_minor": 2
}
