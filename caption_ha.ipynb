{
 "cells": [
  {
   "cell_type": "code",
   "execution_count": 25,
   "metadata": {},
   "outputs": [],
   "source": [
    "from transformers import (VisionEncoderDecoderModel, ViTFeatureExtractor, PreTrainedTokenizerFast)\n",
    "from transformers import Trainer, TrainingArguments\n",
    "from transformers import BertConfig, ViTConfig, VisionEncoderDecoderConfig\n",
    "from transformers import AdamW\n",
    "import torch\n",
    "import numpy as np\n",
    "from PIL import Image\n",
    "import pandas as pd\n",
    "from torch.utils.data import Dataset, DataLoader\n",
    "from tqdm import tqdm\n",
    "from torchvision import transforms"
   ]
  },
  {
   "cell_type": "code",
   "execution_count": 2,
   "metadata": {},
   "outputs": [],
   "source": [
    "humors_info = pd.read_csv('./humor_data.csv')\n",
    "train_data = humors_info.iloc[:100]\n",
    "valid_data = humors_info.iloc[100:200]"
   ]
  },
  {
   "cell_type": "code",
   "execution_count": 3,
   "metadata": {},
   "outputs": [
    {
     "data": {
      "text/html": [
       "<div>\n",
       "<style scoped>\n",
       "    .dataframe tbody tr th:only-of-type {\n",
       "        vertical-align: middle;\n",
       "    }\n",
       "\n",
       "    .dataframe tbody tr th {\n",
       "        vertical-align: top;\n",
       "    }\n",
       "\n",
       "    .dataframe thead th {\n",
       "        text-align: right;\n",
       "    }\n",
       "</style>\n",
       "<table border=\"1\" class=\"dataframe\">\n",
       "  <thead>\n",
       "    <tr style=\"text-align: right;\">\n",
       "      <th></th>\n",
       "      <th>img_urls</th>\n",
       "      <th>labels</th>\n",
       "      <th>img_paths</th>\n",
       "    </tr>\n",
       "  </thead>\n",
       "  <tbody>\n",
       "    <tr>\n",
       "      <th>100</th>\n",
       "      <td>https://d2dcan0armyq93.cloudfront.net/photo/od...</td>\n",
       "      <td>ボルトにナンパされちゃてさーで聞いてよ、あいつ夜も世界最速。早いのは足だけにしろっての、足臭...</td>\n",
       "      <td>./imgs/100.jpg</td>\n",
       "    </tr>\n",
       "    <tr>\n",
       "      <th>101</th>\n",
       "      <td>https://d2dcan0armyq93.cloudfront.net/photo/od...</td>\n",
       "      <td>「いつもメントス食べてる爺さんに飲ませてみましょ、知らなそうだし」「ヒュ～、鬼畜ぅ！」</td>\n",
       "      <td>./imgs/101.jpg</td>\n",
       "    </tr>\n",
       "    <tr>\n",
       "      <th>102</th>\n",
       "      <td>https://d13n9ry8xcpemi.cloudfront.net/photo/od...</td>\n",
       "      <td>他人の喧嘩を間近で見る癖がある。</td>\n",
       "      <td>./imgs/102.jpg</td>\n",
       "    </tr>\n",
       "    <tr>\n",
       "      <th>103</th>\n",
       "      <td>https://d2dcan0armyq93.cloudfront.net/photo/od...</td>\n",
       "      <td>完全にテストを諦めた</td>\n",
       "      <td>./imgs/103.jpg</td>\n",
       "    </tr>\n",
       "    <tr>\n",
       "      <th>104</th>\n",
       "      <td>https://d2dcan0armyq93.cloudfront.net/photo/od...</td>\n",
       "      <td>「パパ、ママは？」「パパ、ママは？」「パパ、ママは？」「・・・頂こう」</td>\n",
       "      <td>./imgs/104.jpg</td>\n",
       "    </tr>\n",
       "  </tbody>\n",
       "</table>\n",
       "</div>"
      ],
      "text/plain": [
       "                                              img_urls  \\\n",
       "100  https://d2dcan0armyq93.cloudfront.net/photo/od...   \n",
       "101  https://d2dcan0armyq93.cloudfront.net/photo/od...   \n",
       "102  https://d13n9ry8xcpemi.cloudfront.net/photo/od...   \n",
       "103  https://d2dcan0armyq93.cloudfront.net/photo/od...   \n",
       "104  https://d2dcan0armyq93.cloudfront.net/photo/od...   \n",
       "\n",
       "                                                labels       img_paths  \n",
       "100  ボルトにナンパされちゃてさーで聞いてよ、あいつ夜も世界最速。早いのは足だけにしろっての、足臭...  ./imgs/100.jpg  \n",
       "101        「いつもメントス食べてる爺さんに飲ませてみましょ、知らなそうだし」「ヒュ～、鬼畜ぅ！」  ./imgs/101.jpg  \n",
       "102                                   他人の喧嘩を間近で見る癖がある。  ./imgs/102.jpg  \n",
       "103                                         完全にテストを諦めた  ./imgs/103.jpg  \n",
       "104                「パパ、ママは？」「パパ、ママは？」「パパ、ママは？」「・・・頂こう」  ./imgs/104.jpg  "
      ]
     },
     "execution_count": 3,
     "metadata": {},
     "output_type": "execute_result"
    }
   ],
   "source": [
    "valid_data.head()"
   ]
  },
  {
   "cell_type": "code",
   "execution_count": 4,
   "metadata": {},
   "outputs": [],
   "source": [
    "train_labels = train_data['labels']\n",
    "valid_labels = valid_data['labels']\n",
    "#data.head()\n"
   ]
  },
  {
   "cell_type": "code",
   "execution_count": 5,
   "metadata": {},
   "outputs": [],
   "source": [
    "class HumorDataset(Dataset):\n",
    "    def __init__(self,data, tokenizer) -> None:\n",
    "        super().__init__()\n",
    "        self.data = data\n",
    "        self.image_datas = []\n",
    "        self.image_list = self.data['img_paths'].tolist()\n",
    "        self.label_list = self.data['labels'].tolist()\n",
    "        self.bos = '<s>'\n",
    "        self.eos = '</s>'\n",
    "        \n",
    "        for i in range(len(self.data)):\n",
    "            image = Image.open(self.image_list[i]).convert(\"RGB\")\n",
    "            image_tensor = np.array(image)\n",
    "            pixel_values = feature_extractor(image_tensor, return_tensors=\"pt\").pixel_values\n",
    "            self.image_datas.append(pixel_values)\n",
    "\n",
    "        labels_strings = []\n",
    "        for i in range(len(self.data)):\n",
    "            text = self.label_list[i]\n",
    "            labels_strings.append(text)\n",
    "        self.labels = tokenizer(labels_strings, return_tensors=\"pt\",padding=True , truncation=True).input_ids\n",
    "\n",
    "    def __getitem__(self, index: int):\n",
    "        return self.image_datas[index], self.labels[index]\n",
    "    def __len__(self):\n",
    "        return len(self.data)"
   ]
  },
  {
   "cell_type": "code",
   "execution_count": 6,
   "metadata": {},
   "outputs": [
    {
     "name": "stderr",
     "output_type": "stream",
     "text": [
      "Some weights of GPT2LMHeadModel were not initialized from the model checkpoint at skt/kogpt2-base-v2 and are newly initialized: ['transformer.h.11.crossattention.c_attn.weight', 'transformer.h.2.crossattention.bias', 'transformer.h.8.crossattention.q_attn.weight', 'transformer.h.11.ln_cross_attn.weight', 'transformer.h.9.crossattention.q_attn.weight', 'transformer.h.10.ln_cross_attn.weight', 'transformer.h.6.crossattention.c_attn.weight', 'transformer.h.6.crossattention.c_proj.bias', 'transformer.h.2.crossattention.c_proj.bias', 'transformer.h.3.crossattention.c_proj.bias', 'transformer.h.11.crossattention.q_attn.weight', 'transformer.h.4.crossattention.q_attn.weight', 'transformer.h.6.ln_cross_attn.weight', 'transformer.h.5.crossattention.c_proj.bias', 'transformer.h.8.ln_cross_attn.weight', 'transformer.h.2.crossattention.c_attn.weight', 'transformer.h.0.crossattention.q_attn.weight', 'transformer.h.4.crossattention.c_attn.weight', 'transformer.h.2.crossattention.q_attn.weight', 'transformer.h.5.crossattention.masked_bias', 'transformer.h.1.crossattention.c_proj.weight', 'transformer.h.8.crossattention.bias', 'transformer.h.7.crossattention.c_proj.bias', 'transformer.h.4.ln_cross_attn.weight', 'transformer.h.7.ln_cross_attn.weight', 'transformer.h.3.crossattention.c_proj.weight', 'transformer.h.3.crossattention.masked_bias', 'transformer.h.0.crossattention.bias', 'transformer.h.3.crossattention.c_attn.weight', 'transformer.h.5.crossattention.c_attn.weight', 'transformer.h.11.crossattention.bias', 'transformer.h.10.crossattention.bias', 'transformer.h.1.crossattention.masked_bias', 'transformer.h.9.ln_cross_attn.weight', 'transformer.h.2.crossattention.c_proj.weight', 'transformer.h.7.crossattention.c_attn.weight', 'transformer.h.6.crossattention.masked_bias', 'transformer.h.6.crossattention.q_attn.weight', 'transformer.h.8.crossattention.c_proj.bias', 'transformer.h.5.crossattention.bias', 'transformer.h.4.crossattention.masked_bias', 'transformer.h.9.crossattention.c_attn.weight', 'transformer.h.0.ln_cross_attn.weight', 'transformer.h.0.crossattention.c_proj.bias', 'transformer.h.4.crossattention.bias', 'transformer.h.7.crossattention.c_proj.weight', 'transformer.h.1.crossattention.q_attn.weight', 'transformer.h.9.crossattention.c_proj.bias', 'transformer.h.9.crossattention.bias', 'transformer.h.8.crossattention.c_proj.weight', 'transformer.h.1.ln_cross_attn.weight', 'transformer.h.10.crossattention.q_attn.weight', 'transformer.h.7.crossattention.q_attn.weight', 'transformer.h.5.ln_cross_attn.weight', 'transformer.h.6.crossattention.bias', 'transformer.h.11.crossattention.c_proj.bias', 'transformer.h.3.crossattention.q_attn.weight', 'transformer.h.10.crossattention.c_proj.weight', 'transformer.h.10.crossattention.c_proj.bias', 'transformer.h.9.crossattention.c_proj.weight', 'transformer.h.11.crossattention.c_proj.weight', 'transformer.h.5.crossattention.q_attn.weight', 'transformer.h.6.crossattention.c_proj.weight', 'transformer.h.1.crossattention.c_proj.bias', 'transformer.h.0.crossattention.c_attn.weight', 'transformer.h.4.crossattention.c_proj.weight', 'transformer.h.7.crossattention.masked_bias', 'transformer.h.0.crossattention.masked_bias', 'transformer.h.2.ln_cross_attn.weight', 'transformer.h.3.crossattention.bias', 'transformer.h.9.crossattention.masked_bias', 'transformer.h.10.crossattention.c_attn.weight', 'transformer.h.11.crossattention.masked_bias', 'transformer.h.8.crossattention.masked_bias', 'transformer.h.3.ln_cross_attn.weight', 'transformer.h.4.crossattention.c_proj.bias', 'transformer.h.1.crossattention.c_attn.weight', 'transformer.h.2.crossattention.masked_bias', 'transformer.h.5.crossattention.c_proj.weight', 'transformer.h.10.crossattention.masked_bias', 'transformer.h.1.crossattention.bias', 'transformer.h.0.crossattention.c_proj.weight', 'transformer.h.8.crossattention.c_attn.weight', 'transformer.h.7.crossattention.bias']\n",
      "You should probably TRAIN this model on a down-stream task to be able to use it for predictions and inference.\n"
     ]
    },
    {
     "name": "stdout",
     "output_type": "stream",
     "text": [
      "Model loaded\n"
     ]
    }
   ],
   "source": [
    "device = torch.device('cuda' if torch.cuda.is_available() else 'cpu')\n",
    "# gpu 사용\n",
    "decoder_model_name_or_path = 'skt/kogpt2-base-v2'\n",
    "#decoder_model_name_or_path = 'klue/bert-base'\n",
    "encoder_model_name_or_path = 'google/vit-base-patch16-224-in21k'\n",
    "\n",
    "feature_extractor = ViTFeatureExtractor.from_pretrained(encoder_model_name_or_path)\n",
    "model = VisionEncoderDecoderModel.from_encoder_decoder_pretrained(encoder_model_name_or_path, decoder_model_name_or_path)\n",
    "# encoder, extractor -> vit\n",
    "model.to(device)\n",
    "print(\"Model loaded\")"
   ]
  },
  {
   "cell_type": "code",
   "execution_count": 7,
   "metadata": {},
   "outputs": [
    {
     "name": "stderr",
     "output_type": "stream",
     "text": [
      "The tokenizer class you load from this checkpoint is not the same type as the class this function is called from. It may result in unexpected tokenization. \n",
      "The tokenizer class you load from this checkpoint is 'GPT2Tokenizer'. \n",
      "The class this function is called from is 'PreTrainedTokenizerFast'.\n"
     ]
    }
   ],
   "source": [
    "tokenizer = PreTrainedTokenizerFast.from_pretrained(decoder_model_name_or_path, bos_token='<s>', \n",
    "eos_token='</s>', unk_token='<unk>',pad_token='<pad>', mask_token='<mask>')\n",
    "# decoder, tokenizer -> gpt2"
   ]
  },
  {
   "cell_type": "code",
   "execution_count": 8,
   "metadata": {},
   "outputs": [
    {
     "name": "stderr",
     "output_type": "stream",
     "text": [
      "Asking to truncate to max_length but no maximum length is provided and the model has no predefined maximum length. Default to no truncation.\n"
     ]
    }
   ],
   "source": [
    "train_dataset = HumorDataset(train_data,tokenizer)\n",
    "valid_dataset = HumorDataset(valid_data,tokenizer)"
   ]
  },
  {
   "cell_type": "code",
   "execution_count": 9,
   "metadata": {},
   "outputs": [],
   "source": [
    "def collate_fn(samples):\n",
    "    collate_img = []\n",
    "    collate_label = []\n",
    "    tensor_size = samples[0][0].size()\n",
    "\n",
    "    for batch_idx, sample in enumerate(samples):\n",
    "        collate_label.append(sample[1])\n",
    "        collate_img.append(sample[0])\n",
    "    return {'pixel_values' : torch.cat(collate_img,0),\n",
    "    'labels':torch.stack(collate_label,0)}"
   ]
  },
  {
   "cell_type": "code",
   "execution_count": 10,
   "metadata": {},
   "outputs": [],
   "source": [
    "#image\n",
    "model.config.decoder_start_token_id = 0\n",
    "model.config.pad_token_id = 3\n",
    "model.config.vocab_size = model.config.decoder.vocab_size"
   ]
  },
  {
   "cell_type": "code",
   "execution_count": 11,
   "metadata": {},
   "outputs": [],
   "source": [
    "train_loader = DataLoader(train_dataset, batch_size=4,collate_fn=collate_fn, shuffle=True)"
   ]
  },
  {
   "cell_type": "code",
   "execution_count": 12,
   "metadata": {},
   "outputs": [],
   "source": [
    "test_train_loader = next(iter(train_loader))"
   ]
  },
  {
   "cell_type": "code",
   "execution_count": 13,
   "metadata": {},
   "outputs": [
    {
     "name": "stdout",
     "output_type": "stream",
     "text": [
      "torch.Size([4, 3, 224, 224])\n",
      "torch.Size([4, 61])\n"
     ]
    }
   ],
   "source": [
    "print(test_train_loader['pixel_values'].shape)\n",
    "print(test_train_loader['labels'].shape)"
   ]
  },
  {
   "cell_type": "code",
   "execution_count": 15,
   "metadata": {},
   "outputs": [
    {
     "name": "stderr",
     "output_type": "stream",
     "text": [
      "100%|██████████| 25/25 [00:03<00:00,  6.97it/s]\n",
      "100%|██████████| 25/25 [00:03<00:00,  7.33it/s]\n",
      "100%|██████████| 25/25 [00:03<00:00,  7.07it/s]\n"
     ]
    }
   ],
   "source": [
    "model.train()\n",
    "\n",
    "train_loader = DataLoader(train_dataset, batch_size=4, collate_fn=collate_fn,shuffle=True)\n",
    "valid_loader = DataLoader(valid_dataset, batch_size=4, collate_fn=collate_fn,shuffle=True)\n",
    "\n",
    "optim = AdamW(model.parameters(), lr=5e-5)\n",
    "\n",
    "for epoch in range(3):\n",
    "    for batch in tqdm(train_loader):\n",
    "        optim.zero_grad()\n",
    "        batch_pixel_values, batch_labels = batch['pixel_values'], batch['labels']\n",
    "        outputs = model(pixel_values=batch_pixel_values.to(device), labels=batch_labels.to(device))\n",
    "        loss = outputs.loss\n",
    "        loss.backward()\n",
    "        optim.step()\n",
    "\n"
   ]
  },
  {
   "cell_type": "code",
   "execution_count": 16,
   "metadata": {},
   "outputs": [],
   "source": [
    "valid_batch = next(iter(valid_loader))"
   ]
  },
  {
   "cell_type": "code",
   "execution_count": 21,
   "metadata": {},
   "outputs": [],
   "source": [
    "generated_ids = model.generate(valid_batch['pixel_values'].to(device))\n",
    "generated_text = tokenizer.batch_decode(generated_ids, skip_special_tokens=True)"
   ]
  },
  {
   "cell_type": "code",
   "execution_count": 31,
   "metadata": {},
   "outputs": [
    {
     "data": {
      "image/png": "[encoded data removed]",
      "text/plain": [
       "<PIL.Image.Image image mode=RGB size=224x224 at 0x7FC1F8096D30>"
      ]
     },
     "execution_count": 31,
     "metadata": {},
     "output_type": "execute_result"
    }
   ],
   "source": [
    "img = valid_batch['pixel_values'][3]\n",
    "transforms.ToPILImage()(img)"
   ]
  }
 ],
 "metadata": {
  "interpreter": {
   "hash": "d4d1e4263499bec80672ea0156c357c1ee493ec2b1c70f0acce89fc37c4a6abe"
  },
  "kernelspec": {
   "display_name": "Python 3.8.5 64-bit ('base': conda)",
   "language": "python",
   "name": "python3"
  },
  "language_info": {
   "codemirror_mode": {
    "name": "ipython",
    "version": 3
   },
   "file_extension": ".py",
   "mimetype": "text/x-python",
   "name": "python",
   "nbconvert_exporter": "python",
   "pygments_lexer": "ipython3",
   "version": "3.8.5"
  },
  "orig_nbformat": 4
 },
 "nbformat": 4,
 "nbformat_minor": 2
}
