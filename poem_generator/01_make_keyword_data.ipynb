{
 "cells": [
  {
   "cell_type": "code",
   "execution_count": 1,
   "metadata": {},
   "outputs": [],
   "source": [
    "from konlpy.tag import Okt\n",
    "import pandas as pd\n",
    "from collections import Counter"
   ]
  },
  {
   "cell_type": "code",
   "execution_count": 2,
   "metadata": {},
   "outputs": [],
   "source": [
    "okt = Okt()"
   ]
  },
  {
   "cell_type": "code",
   "execution_count": 3,
   "metadata": {},
   "outputs": [],
   "source": [
    "# 디카시와, 기존 데이터셋에서 key_word를 추출합니다.\n",
    "dica_poem = pd.read_csv('/opt/ml/data/dica_poem.csv')\n",
    "base_poem = pd.read_csv('/opt/ml/data/poem_75percent_add_emotion.csv')\n",
    "base_poem2 = pd.read_csv('/opt/ml/data/sinchoon+nonpub+400poems+emotion.csv')"
   ]
  },
  {
   "cell_type": "code",
   "execution_count": 4,
   "metadata": {},
   "outputs": [
    {
     "data": {
      "text/plain": [
       "15884"
      ]
     },
     "execution_count": 4,
     "metadata": {},
     "output_type": "execute_result"
    }
   ],
   "source": [
    "len(base_poem)"
   ]
  },
  {
   "cell_type": "code",
   "execution_count": 5,
   "metadata": {},
   "outputs": [],
   "source": [
    "base_poem = pd.concat([base_poem,base_poem2]).reset_index(drop=True)"
   ]
  },
  {
   "cell_type": "code",
   "execution_count": 7,
   "metadata": {},
   "outputs": [
    {
     "data": {
      "text/plain": [
       "17033"
      ]
     },
     "execution_count": 7,
     "metadata": {},
     "output_type": "execute_result"
    }
   ],
   "source": [
    "len(base_poem['text'])"
   ]
  },
  {
   "cell_type": "code",
   "execution_count": 9,
   "metadata": {},
   "outputs": [],
   "source": [
    "base_poem = base_poem.drop_duplicates(['text']).reset_index(drop=True)"
   ]
  },
  {
   "cell_type": "code",
   "execution_count": 10,
   "metadata": {},
   "outputs": [
    {
     "data": {
      "text/plain": [
       "16953"
      ]
     },
     "execution_count": 10,
     "metadata": {},
     "output_type": "execute_result"
    }
   ],
   "source": [
    "len(base_poem)"
   ]
  },
  {
   "cell_type": "code",
   "execution_count": 3,
   "metadata": {},
   "outputs": [],
   "source": [
    "# 키워드를 뽑는 함수\n",
    "def get_top3_noun(text):\n",
    "    noun = okt.nouns(text)\n",
    "    count = Counter(noun)\n",
    "    noun_list = count.most_common(3)\n",
    "    rtn_noun = list(map(lambda x: x[0],noun_list))\n",
    "    return ', '.join(rtn_noun)\n"
   ]
  },
  {
   "cell_type": "code",
   "execution_count": 4,
   "metadata": {},
   "outputs": [],
   "source": [
    "text = '마침내 양은 사라졌다한 의식을 잃고서 나는 은주발에 담긴 눈*이 되고 싶었다 갈피가 다 바랜 경전 속에 없던 신이밑창 닳아 낮아진 가죽신 아래에서 흘렀다'"
   ]
  },
  {
   "cell_type": "code",
   "execution_count": 5,
   "metadata": {},
   "outputs": [
    {
     "name": "stdout",
     "output_type": "stream",
     "text": [
      "신, 마침내, 양은\n"
     ]
    }
   ],
   "source": [
    "k = get_top3_noun(text)\n",
    "print(k)"
   ]
  },
  {
   "cell_type": "code",
   "execution_count": 12,
   "metadata": {},
   "outputs": [],
   "source": [
    "# 키워드 추출\n",
    "dica_keyword = dica_poem['poem'].apply(get_top3_noun)\n",
    "base_keyword = base_poem['text'].apply(get_top3_noun)"
   ]
  },
  {
   "cell_type": "code",
   "execution_count": 13,
   "metadata": {},
   "outputs": [],
   "source": [
    "# 생성된 키워드들을 저장\n",
    "base_poem['key_word'] = base_keyword\n",
    "dica_poem['key_word'] = dica_keyword"
   ]
  },
  {
   "cell_type": "code",
   "execution_count": 14,
   "metadata": {},
   "outputs": [],
   "source": [
    "# 디카시의 시 데이터는 poem 컬럼에\n",
    "# 기존의 시 데이터는 text에 저장되어 있기 때문에\n",
    "# 새로 데이터 프레임을 만들어 저장합니다.\n",
    "bp = pd.DataFrame(data={\n",
    "    'text' : base_poem['text'],\n",
    "    'key_word': base_poem['key_word']\n",
    "    })\n",
    "\n",
    "dp = pd.DataFrame(data={\n",
    "    'text' : dica_poem['poem'],\n",
    "    'key_word': dica_poem['key_word']\n",
    "    })"
   ]
  },
  {
   "cell_type": "code",
   "execution_count": 15,
   "metadata": {},
   "outputs": [],
   "source": [
    "# 생성된 데이터 프레임을 저장합니다.\n",
    "add_poem_data = pd.concat([bp,dp]).reset_index(drop=True)\n",
    "add_poem_data.to_csv('final_poem_data_with_keyword.csv',index=False)"
   ]
  },
  {
   "cell_type": "code",
   "execution_count": null,
   "metadata": {},
   "outputs": [],
   "source": []
  }
 ],
 "metadata": {
  "interpreter": {
   "hash": "d4d1e4263499bec80672ea0156c357c1ee493ec2b1c70f0acce89fc37c4a6abe"
  },
  "kernelspec": {
   "display_name": "Python 3.8.12 64-bit ('base': conda)",
   "language": "python",
   "name": "python3"
  },
  "language_info": {
   "codemirror_mode": {
    "name": "ipython",
    "version": 3
   },
   "file_extension": ".py",
   "mimetype": "text/x-python",
   "name": "python",
   "nbconvert_exporter": "python",
   "pygments_lexer": "ipython3",
   "version": "3.8.12"
  },
  "orig_nbformat": 4
 },
 "nbformat": 4,
 "nbformat_minor": 2
}
