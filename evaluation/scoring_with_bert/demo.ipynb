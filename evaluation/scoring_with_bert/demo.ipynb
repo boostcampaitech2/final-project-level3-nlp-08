{
 "cells": [
  {
   "cell_type": "code",
   "execution_count": 7,
   "metadata": {},
   "outputs": [],
   "source": [
    "from transformers import AutoTokenizer\n",
    "from model import RobertaEncoder\n",
    "import torch"
   ]
  },
  {
   "cell_type": "code",
   "execution_count": 21,
   "metadata": {},
   "outputs": [],
   "source": [
    "tokenizer = AutoTokenizer.from_pretrained('klue/roberta-small')\n",
    "sen_encoder = RobertaEncoder.from_pretrained('checkpoints/val_acc_58.88%_sen_encoder').cuda()"
   ]
  },
  {
   "cell_type": "code",
   "execution_count": 51,
   "metadata": {},
   "outputs": [],
   "source": [
    "def checker(title, text):\n",
    "\n",
    "    val_u_seqs = tokenizer(title)\n",
    "    val_v_seqs = tokenizer(text)\n",
    "\n",
    "    u_input_ids_lst = val_u_seqs['input_ids']\n",
    "    u_attention_mask_lst = val_u_seqs['attention_mask']\n",
    "\n",
    "    v_input_ids_lst =  val_v_seqs['input_ids']\n",
    "    v_attention_mask_lst = val_v_seqs['attention_mask']\n",
    "\n",
    "    with torch.no_grad():\n",
    "        sen_encoder.eval()\n",
    "        sen_encoder.eval()\n",
    "        \n",
    "        u_input_ids = torch.tensor(u_input_ids_lst).cuda().unsqueeze(0)\n",
    "        u_attention_mask = torch.tensor(u_attention_mask_lst).cuda().unsqueeze(0)\n",
    "        v_input_ids = torch.tensor(v_input_ids_lst).cuda().unsqueeze(0)\n",
    "        v_attention_mask = torch.tensor(v_attention_mask_lst).cuda().unsqueeze(0)\n",
    "        \n",
    "        inputs = {'input_ids_1': u_input_ids,\n",
    "            'input_ids_2': v_input_ids,\n",
    "            'attention_mask_1': u_attention_mask,\n",
    "            'attention_mask_2': v_attention_mask\n",
    "            }\n",
    "\n",
    "        val_cos_sim = sen_encoder(**inputs).to('cpu')\n",
    "        return val_cos_sim.item()\n"
   ]
  },
  {
   "cell_type": "code",
   "execution_count": 31,
   "metadata": {},
   "outputs": [],
   "source": [
    "checker('title', 'text')"
   ]
  },
  {
   "cell_type": "code",
   "execution_count": 13,
   "metadata": {},
   "outputs": [
    {
     "name": "stderr",
     "output_type": "stream",
     "text": [
      "Some weights of the model checkpoint at bert-base-uncased were not used when initializing BertForSequenceClassification: ['cls.predictions.transform.dense.weight', 'cls.predictions.transform.LayerNorm.bias', 'cls.predictions.transform.LayerNorm.weight', 'cls.predictions.bias', 'cls.predictions.transform.dense.bias', 'cls.predictions.decoder.weight', 'cls.seq_relationship.weight', 'cls.seq_relationship.bias']\n",
      "- This IS expected if you are initializing BertForSequenceClassification from the checkpoint of a model trained on another task or with another architecture (e.g. initializing a BertForSequenceClassification model from a BertForPreTraining model).\n",
      "- This IS NOT expected if you are initializing BertForSequenceClassification from the checkpoint of a model that you expect to be exactly identical (initializing a BertForSequenceClassification model from a BertForSequenceClassification model).\n",
      "Some weights of BertForSequenceClassification were not initialized from the model checkpoint at bert-base-uncased and are newly initialized: ['classifier.weight', 'classifier.bias']\n",
      "You should probably TRAIN this model on a down-stream task to be able to use it for predictions and inference.\n",
      "/opt/conda/envs/bc/lib/python3.9/site-packages/torch/nn/modules/loss.py:520: UserWarning: Using a target size (torch.Size([1, 1])) that is different to the input size (torch.Size([1, 2])). This will likely lead to incorrect results due to broadcasting. Please ensure they have the same size.\n",
      "  return F.mse_loss(input, target, reduction=self.reduction)\n"
     ]
    }
   ],
   "source": [
    "from transformers import BertTokenizer, BertForSequenceClassification\n",
    "import torch\n",
    "\n",
    "tokenizer = BertTokenizer.from_pretrained('bert-base-uncased')\n",
    "model = BertForSequenceClassification.from_pretrained('bert-base-uncased', problem_type = 'single_label_classification')\n",
    "\n",
    "inputs = tokenizer(\"Hello, my dog is cute\", return_tensors=\"pt\")\n",
    "labels = torch.tensor([1]).unsqueeze(0)  # Batch size 1\n",
    "outputs = model(**inputs, labels=labels)\n",
    "loss = outputs.loss\n",
    "logits = outputs.logits"
   ]
  },
  {
   "cell_type": "code",
   "execution_count": 25,
   "metadata": {},
   "outputs": [],
   "source": [
    "from torch.nn import Softmax\n",
    "import numpy as np"
   ]
  },
  {
   "cell_type": "code",
   "execution_count": 118,
   "metadata": {},
   "outputs": [
    {
     "name": "stdout",
     "output_type": "stream",
     "text": [
      "[-0.4755, -0.4808]\n"
     ]
    },
    {
     "data": {
      "text/plain": [
       "1"
      ]
     },
     "execution_count": 118,
     "metadata": {},
     "output_type": "execute_result"
    }
   ],
   "source": [
    "m = Softmax(dim=1)\n",
    "input = torch.randn(2, 2)\n",
    "print([-0.4755, -0.4808])\n",
    "np.argmax([0.4755, 0.4808])"
   ]
  },
  {
   "cell_type": "code",
   "execution_count": 14,
   "metadata": {},
   "outputs": [
    {
     "data": {
      "text/plain": [
       "(SequenceClassifierOutput(loss=tensor(1.8609, grad_fn=<MseLossBackward0>), logits=tensor([[-0.2711, -0.4513]], grad_fn=<AddmmBackward0>), hidden_states=None, attentions=None),\n",
       " SequenceClassifierOutput(loss=tensor(0.5674, grad_fn=<BinaryCrossEntropyWithLogitsBackward0>), logits=tensor([[0.0474, 0.5238]], grad_fn=<AddmmBackward0>), hidden_states=None, attentions=None))"
      ]
     },
     "execution_count": 14,
     "metadata": {},
     "output_type": "execute_result"
    }
   ],
   "source": [
    "outputs, outputs1"
   ]
  },
  {
   "cell_type": "code",
   "execution_count": 6,
   "metadata": {},
   "outputs": [
    {
     "name": "stderr",
     "output_type": "stream",
     "text": [
      "Some weights of the model checkpoint at bert-base-uncased were not used when initializing BertForSequenceClassification: ['cls.predictions.transform.dense.weight', 'cls.predictions.transform.LayerNorm.bias', 'cls.predictions.transform.LayerNorm.weight', 'cls.predictions.bias', 'cls.predictions.transform.dense.bias', 'cls.predictions.decoder.weight', 'cls.seq_relationship.weight', 'cls.seq_relationship.bias']\n",
      "- This IS expected if you are initializing BertForSequenceClassification from the checkpoint of a model trained on another task or with another architecture (e.g. initializing a BertForSequenceClassification model from a BertForPreTraining model).\n",
      "- This IS NOT expected if you are initializing BertForSequenceClassification from the checkpoint of a model that you expect to be exactly identical (initializing a BertForSequenceClassification model from a BertForSequenceClassification model).\n",
      "Some weights of BertForSequenceClassification were not initialized from the model checkpoint at bert-base-uncased and are newly initialized: ['classifier.weight', 'classifier.bias']\n",
      "You should probably TRAIN this model on a down-stream task to be able to use it for predictions and inference.\n"
     ]
    }
   ],
   "source": [
    ">>> from transformers import BertTokenizer, BertForSequenceClassification\n",
    ">>> import torch\n",
    "\n",
    ">>> tokenizer = BertTokenizer.from_pretrained('bert-base-uncased')\n",
    ">>> model = BertForSequenceClassification.from_pretrained('bert-base-uncased', problem_type=\"multi_label_classification\")\n",
    "\n",
    ">>> inputs = tokenizer(\"Hello, my dog is cute\", return_tensors=\"pt\")\n",
    ">>> labels = torch.tensor([[1, 1]], dtype=torch.float) # need dtype=float for BCEWithLogitsLoss\n",
    ">>> outputs1 = model(**inputs, labels=labels)\n",
    ">>> loss1 = outputs1.loss\n",
    ">>> logits1 = outputs.logits"
   ]
  }
 ],
 "metadata": {
  "interpreter": {
   "hash": "8cf67b00fe44a7bbb95b84fa7b31b362c005e968b891258bc8597366f52a1c53"
  },
  "kernelspec": {
   "display_name": "Python 3.9.7 64-bit ('bc': conda)",
   "language": "python",
   "name": "python3"
  },
  "language_info": {
   "codemirror_mode": {
    "name": "ipython",
    "version": 3
   },
   "file_extension": ".py",
   "mimetype": "text/x-python",
   "name": "python",
   "nbconvert_exporter": "python",
   "pygments_lexer": "ipython3",
   "version": "3.9.7"
  },
  "orig_nbformat": 4
 },
 "nbformat": 4,
 "nbformat_minor": 2
}
