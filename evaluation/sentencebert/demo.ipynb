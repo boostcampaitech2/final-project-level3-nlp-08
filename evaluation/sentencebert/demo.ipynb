{
 "cells": [
  {
   "cell_type": "code",
   "execution_count": 7,
   "metadata": {},
   "outputs": [],
   "source": [
    "from transformers import AutoTokenizer\n",
    "from model import RobertaEncoder\n",
    "import torch"
   ]
  },
  {
   "cell_type": "code",
   "execution_count": 21,
   "metadata": {},
   "outputs": [],
   "source": [
    "tokenizer = AutoTokenizer.from_pretrained('klue/roberta-small')\n",
    "sen_encoder = RobertaEncoder.from_pretrained('checkpoints/val_acc_58.88%_sen_encoder').cuda()"
   ]
  },
  {
   "cell_type": "code",
   "execution_count": 51,
   "metadata": {},
   "outputs": [],
   "source": [
    "def checker(title, text):\n",
    "\n",
    "    val_u_seqs = tokenizer(title)\n",
    "    val_v_seqs = tokenizer(text)\n",
    "\n",
    "    u_input_ids_lst = val_u_seqs['input_ids']\n",
    "    u_attention_mask_lst = val_u_seqs['attention_mask']\n",
    "\n",
    "    v_input_ids_lst =  val_v_seqs['input_ids']\n",
    "    v_attention_mask_lst = val_v_seqs['attention_mask']\n",
    "\n",
    "    with torch.no_grad():\n",
    "        sen_encoder.eval()\n",
    "        sen_encoder.eval()\n",
    "        \n",
    "        u_input_ids = torch.tensor(u_input_ids_lst).cuda().unsqueeze(0)\n",
    "        u_attention_mask = torch.tensor(u_attention_mask_lst).cuda().unsqueeze(0)\n",
    "        v_input_ids = torch.tensor(v_input_ids_lst).cuda().unsqueeze(0)\n",
    "        v_attention_mask = torch.tensor(v_attention_mask_lst).cuda().unsqueeze(0)\n",
    "        \n",
    "        inputs = {'input_ids_1': u_input_ids,\n",
    "            'input_ids_2': v_input_ids,\n",
    "            'attention_mask_1': u_attention_mask,\n",
    "            'attention_mask_2': v_attention_mask\n",
    "            }\n",
    "\n",
    "        val_cos_sim = sen_encoder(**inputs).to('cpu')\n",
    "        return val_cos_sim.item()\n"
   ]
  },
  {
   "cell_type": "code",
   "execution_count": 31,
   "metadata": {},
   "outputs": [],
   "source": [
    "checker('title', 'text')"
   ]
  }
 ],
 "metadata": {
  "interpreter": {
   "hash": "8cf67b00fe44a7bbb95b84fa7b31b362c005e968b891258bc8597366f52a1c53"
  },
  "kernelspec": {
   "display_name": "Python 3.9.7 64-bit ('bc': conda)",
   "language": "python",
   "name": "python3"
  },
  "language_info": {
   "codemirror_mode": {
    "name": "ipython",
    "version": 3
   },
   "file_extension": ".py",
   "mimetype": "text/x-python",
   "name": "python",
   "nbconvert_exporter": "python",
   "pygments_lexer": "ipython3",
   "version": "3.9.7"
  },
  "orig_nbformat": 4
 },
 "nbformat": 4,
 "nbformat_minor": 2
}
